{
  "nbformat": 4,
  "nbformat_minor": 0,
  "metadata": {
    "colab": {
      "provenance": [],
      "gpuType": "T4",
      "authorship_tag": "ABX9TyO4hJX6OpYW49FCW+L2DEck",
      "include_colab_link": true
    },
    "kernelspec": {
      "name": "python3",
      "display_name": "Python 3"
    },
    "language_info": {
      "name": "python"
    },
    "accelerator": "GPU"
  },
  "cells": [
    {
      "cell_type": "markdown",
      "metadata": {
        "id": "view-in-github",
        "colab_type": "text"
      },
      "source": [
        "<a href=\"https://colab.research.google.com/github/FatemehAbediK/signal-processing-EEG/blob/main/eeg_numpy_aarays_model1.ipynb\" target=\"_parent\"><img src=\"https://colab.research.google.com/assets/colab-badge.svg\" alt=\"Open In Colab\"/></a>"
      ]
    },
    {
      "cell_type": "code",
      "execution_count": 3,
      "metadata": {
        "id": "Bh9qYwJO3Q3i"
      },
      "outputs": [],
      "source": [
        "import os\n",
        "import numpy as np"
      ]
    },
    {
      "cell_type": "code",
      "source": [],
      "metadata": {
        "id": "sw-NGbiY4f8u"
      },
      "execution_count": 3,
      "outputs": []
    },
    {
      "cell_type": "code",
      "source": [
        "from google.colab import drive\n",
        "drive.mount('/content/drive')"
      ],
      "metadata": {
        "colab": {
          "base_uri": "https://localhost:8080/"
        },
        "id": "ynDVTUg_3yTE",
        "outputId": "1e315845-4df7-42f8-ab91-03f121496b9c"
      },
      "execution_count": 4,
      "outputs": [
        {
          "output_type": "stream",
          "name": "stdout",
          "text": [
            "Mounted at /content/drive\n"
          ]
        }
      ]
    },
    {
      "cell_type": "code",
      "source": [
        "main_dir = '/content/drive/MyDrive/dataset files/eeg-consent/AISContest_Data'"
      ],
      "metadata": {
        "id": "MZePGgOK3l1b"
      },
      "execution_count": 5,
      "outputs": []
    },
    {
      "cell_type": "code",
      "source": [
        "# List the contents of the directory to make sure it points to the right place\n",
        "print(os.listdir(main_dir))"
      ],
      "metadata": {
        "colab": {
          "base_uri": "https://localhost:8080/"
        },
        "id": "7eVi5HHw3lyn",
        "outputId": "d4732f25-8569-4cc2-ebe3-9caeb60a33d8"
      },
      "execution_count": 6,
      "outputs": [
        {
          "output_type": "stream",
          "name": "stdout",
          "text": [
            "['1', '0', '3', '2', '4']\n"
          ]
        }
      ]
    },
    {
      "cell_type": "code",
      "source": [
        "# Initialize lists to store the data and labels\n",
        "data = []\n",
        "labels = []\n",
        "\n",
        "# Iterate through each folder in the main directory\n",
        "for folder_name in os.listdir(main_dir):\n",
        "    folder_path = os.path.join(main_dir, folder_name)\n",
        "\n",
        "    # Check if it is a directory (skip files)\n",
        "    if os.path.isdir(folder_path):\n",
        "        # The folder name will be used as the label\n",
        "        label = folder_name\n",
        "\n",
        "        # Iterate through each file in the folder\n",
        "        for file_name in os.listdir(folder_path):\n",
        "            if file_name.endswith('.npy'):\n",
        "                file_path = os.path.join(folder_path, file_name)\n",
        "\n",
        "                # Load the .npy file\n",
        "                file_data = np.load(file_path)\n",
        "\n",
        "                # Append the data and corresponding label to the lists\n",
        "                data.append(file_data)\n",
        "                labels.append(label)\n",
        "\n",
        "# Convert lists to numpy arrays (optional)\n",
        "data = np.array(data)\n",
        "labels = np.array(labels)\n",
        "\n",
        "# Check the first few files and their labels to ensure everything is correct\n",
        "print(data.shape)  # Shape of the data (number of files, shape of each .npy)\n",
        "print(labels[:5])  # First 5 labels to verify they're correctly assigned"
      ],
      "metadata": {
        "colab": {
          "base_uri": "https://localhost:8080/"
        },
        "id": "nhKW9sJM3ltt",
        "outputId": "90b358f6-27c2-4ee7-95f1-3b5e07ba2d43"
      },
      "execution_count": 7,
      "outputs": [
        {
          "output_type": "stream",
          "name": "stdout",
          "text": [
            "(5629, 51, 59, 1)\n",
            "['1' '1' '1' '1' '1']\n"
          ]
        }
      ]
    },
    {
      "cell_type": "code",
      "source": [
        "print(data[0])  # Display the first sample\n",
        "print(labels[0])  # Display the label for the first sample\n"
      ],
      "metadata": {
        "colab": {
          "base_uri": "https://localhost:8080/"
        },
        "id": "YK-Q4vy83lqF",
        "outputId": "a7258194-42a0-4048-a6a1-123c35bad1dd"
      },
      "execution_count": 8,
      "outputs": [
        {
          "output_type": "stream",
          "name": "stdout",
          "text": [
            "[[[7.59610615e-06]\n",
            "  [2.95189310e-06]\n",
            "  [7.69649020e-06]\n",
            "  ...\n",
            "  [2.25728121e-05]\n",
            "  [6.03978996e-05]\n",
            "  [5.18709476e-05]]\n",
            "\n",
            " [[1.40866506e-05]\n",
            "  [5.32253911e-06]\n",
            "  [9.80565096e-06]\n",
            "  ...\n",
            "  [3.51300818e-05]\n",
            "  [6.31155574e-05]\n",
            "  [4.77625244e-05]]\n",
            "\n",
            " [[1.72391155e-05]\n",
            "  [7.92305901e-06]\n",
            "  [7.13584942e-06]\n",
            "  ...\n",
            "  [1.72639708e-05]\n",
            "  [1.67320854e-05]\n",
            "  [7.05703926e-05]]\n",
            "\n",
            " ...\n",
            "\n",
            " [[8.44561710e-08]\n",
            "  [4.87924921e-08]\n",
            "  [4.62181642e-08]\n",
            "  ...\n",
            "  [1.06191933e-07]\n",
            "  [7.02747289e-08]\n",
            "  [8.57741960e-08]]\n",
            "\n",
            " [[5.01691515e-08]\n",
            "  [3.74291188e-08]\n",
            "  [7.96119616e-08]\n",
            "  ...\n",
            "  [2.49364436e-08]\n",
            "  [9.44725202e-08]\n",
            "  [1.80483846e-07]]\n",
            "\n",
            " [[4.08063444e-08]\n",
            "  [2.30283889e-08]\n",
            "  [2.22213787e-08]\n",
            "  ...\n",
            "  [8.57444561e-08]\n",
            "  [8.00021843e-08]\n",
            "  [1.55265099e-07]]]\n",
            "1\n"
          ]
        }
      ]
    },
    {
      "cell_type": "code",
      "source": [],
      "metadata": {
        "id": "MIgHatjQ3lnc"
      },
      "execution_count": 8,
      "outputs": []
    },
    {
      "cell_type": "code",
      "source": [
        "from sklearn.preprocessing import LabelEncoder\n",
        "import tensorflow as tf\n",
        "from tensorflow import keras\n",
        "from keras.utils import to_categorical\n",
        "\n",
        "# Normalize the EEG data (min-max normalization)\n",
        "data = data / np.max(data, axis=(1, 2), keepdims=True)  # Normalize for each sample\n",
        "\n",
        "# Encode the labels (assuming labels are categorical)\n",
        "label_encoder = LabelEncoder()\n",
        "y = label_encoder.fit_transform(labels)  # Convert categorical labels to numeric (0, 1, 2, 3, 4)\n",
        "\n",
        "# One-hot encode the labels for multi-class classification\n",
        "y = to_categorical(y, num_classes=5)  # 5 classes\n",
        "\n",
        "# Inspect the shape of the labels\n",
        "print(y.shape)  # (n_samples, 5)"
      ],
      "metadata": {
        "colab": {
          "base_uri": "https://localhost:8080/"
        },
        "id": "nmCkWIBz39o-",
        "outputId": "0fa0901b-33f9-4e6f-ab6a-811951694c62"
      },
      "execution_count": 9,
      "outputs": [
        {
          "output_type": "stream",
          "name": "stdout",
          "text": [
            "(5629, 5)\n"
          ]
        }
      ]
    },
    {
      "cell_type": "code",
      "source": [],
      "metadata": {
        "id": "fvd61Bdz39ly"
      },
      "execution_count": 9,
      "outputs": []
    },
    {
      "cell_type": "code",
      "source": [
        "from sklearn.model_selection import train_test_split\n",
        "\n",
        "# Split the data with stratification to ensure each class is proportionally represented in both train and test sets\n",
        "X_train, X_test, y_train, y_test = train_test_split(data, y, test_size=0.2, random_state=42, stratify=y)\n",
        "\n",
        "# Inspect the shape of the splits\n",
        "print(X_train.shape, X_test.shape)\n",
        "print(y_train.shape, y_test.shape)\n",
        "\n",
        "# Inspect the class distribution in both train and test sets\n",
        "print(\"Training labels distribution:\", np.sum(y_train, axis=0))\n",
        "print(\"Testing labels distribution:\", np.sum(y_test, axis=0))"
      ],
      "metadata": {
        "colab": {
          "base_uri": "https://localhost:8080/"
        },
        "id": "O8FVSL7739ik",
        "outputId": "10461622-4953-46d4-b05c-c0bff5e56451"
      },
      "execution_count": 34,
      "outputs": [
        {
          "output_type": "stream",
          "name": "stdout",
          "text": [
            "(4503, 51, 59, 1) (1126, 51, 59, 1)\n",
            "(4503, 5) (1126, 5)\n",
            "Training labels distribution: [2169.  190. 1412.  398.  334.]\n",
            "Testing labels distribution: [543.  47. 353.  99.  84.]\n"
          ]
        }
      ]
    },
    {
      "cell_type": "code",
      "source": [
        "import pickle\n",
        "\n",
        "# Save the splits to files\n",
        "with open('data_splits.pkl', 'wb') as f:\n",
        "    pickle.dump((X_train, X_test, y_train, y_test), f)\n",
        "\n",
        "print(\"Data splits saved successfully!\")\n"
      ],
      "metadata": {
        "colab": {
          "base_uri": "https://localhost:8080/"
        },
        "id": "zIK4ALAOCLeE",
        "outputId": "857cd856-35fb-48eb-fa00-8b8447e86091"
      },
      "execution_count": 35,
      "outputs": [
        {
          "output_type": "stream",
          "name": "stdout",
          "text": [
            "Data splits saved successfully!\n"
          ]
        }
      ]
    },
    {
      "cell_type": "code",
      "source": [],
      "metadata": {
        "id": "-DjMy7iVCLWH"
      },
      "execution_count": null,
      "outputs": []
    },
    {
      "cell_type": "markdown",
      "source": [
        "#FIESRT MODEL"
      ],
      "metadata": {
        "id": "WrU5QQeWCNOV"
      }
    },
    {
      "cell_type": "code",
      "source": [
        "!pip install keras-tuner"
      ],
      "metadata": {
        "colab": {
          "base_uri": "https://localhost:8080/"
        },
        "id": "IjbKGTU539d6",
        "outputId": "fb778229-cb3c-43b3-8441-a5d6753a9c2c"
      },
      "execution_count": 19,
      "outputs": [
        {
          "output_type": "stream",
          "name": "stdout",
          "text": [
            "Collecting keras-tuner\n",
            "  Downloading keras_tuner-1.4.7-py3-none-any.whl.metadata (5.4 kB)\n",
            "Requirement already satisfied: keras in /usr/local/lib/python3.10/dist-packages (from keras-tuner) (3.5.0)\n",
            "Requirement already satisfied: packaging in /usr/local/lib/python3.10/dist-packages (from keras-tuner) (24.2)\n",
            "Requirement already satisfied: requests in /usr/local/lib/python3.10/dist-packages (from keras-tuner) (2.32.3)\n",
            "Collecting kt-legacy (from keras-tuner)\n",
            "  Downloading kt_legacy-1.0.5-py3-none-any.whl.metadata (221 bytes)\n",
            "Requirement already satisfied: absl-py in /usr/local/lib/python3.10/dist-packages (from keras->keras-tuner) (1.4.0)\n",
            "Requirement already satisfied: numpy in /usr/local/lib/python3.10/dist-packages (from keras->keras-tuner) (1.26.4)\n",
            "Requirement already satisfied: rich in /usr/local/lib/python3.10/dist-packages (from keras->keras-tuner) (13.9.4)\n",
            "Requirement already satisfied: namex in /usr/local/lib/python3.10/dist-packages (from keras->keras-tuner) (0.0.8)\n",
            "Requirement already satisfied: h5py in /usr/local/lib/python3.10/dist-packages (from keras->keras-tuner) (3.12.1)\n",
            "Requirement already satisfied: optree in /usr/local/lib/python3.10/dist-packages (from keras->keras-tuner) (0.13.1)\n",
            "Requirement already satisfied: ml-dtypes in /usr/local/lib/python3.10/dist-packages (from keras->keras-tuner) (0.4.1)\n",
            "Requirement already satisfied: charset-normalizer<4,>=2 in /usr/local/lib/python3.10/dist-packages (from requests->keras-tuner) (3.4.0)\n",
            "Requirement already satisfied: idna<4,>=2.5 in /usr/local/lib/python3.10/dist-packages (from requests->keras-tuner) (3.10)\n",
            "Requirement already satisfied: urllib3<3,>=1.21.1 in /usr/local/lib/python3.10/dist-packages (from requests->keras-tuner) (2.2.3)\n",
            "Requirement already satisfied: certifi>=2017.4.17 in /usr/local/lib/python3.10/dist-packages (from requests->keras-tuner) (2024.12.14)\n",
            "Requirement already satisfied: typing-extensions>=4.5.0 in /usr/local/lib/python3.10/dist-packages (from optree->keras->keras-tuner) (4.12.2)\n",
            "Requirement already satisfied: markdown-it-py>=2.2.0 in /usr/local/lib/python3.10/dist-packages (from rich->keras->keras-tuner) (3.0.0)\n",
            "Requirement already satisfied: pygments<3.0.0,>=2.13.0 in /usr/local/lib/python3.10/dist-packages (from rich->keras->keras-tuner) (2.18.0)\n",
            "Requirement already satisfied: mdurl~=0.1 in /usr/local/lib/python3.10/dist-packages (from markdown-it-py>=2.2.0->rich->keras->keras-tuner) (0.1.2)\n",
            "Downloading keras_tuner-1.4.7-py3-none-any.whl (129 kB)\n",
            "\u001b[?25l   \u001b[90m━━━━━━━━━━━━━━━━━━━━━━━━━━━━━━━━━━━━━━━━\u001b[0m \u001b[32m0.0/129.1 kB\u001b[0m \u001b[31m?\u001b[0m eta \u001b[36m-:--:--\u001b[0m\r\u001b[2K   \u001b[90m━━━━━━━━━━━━━━━━━━━━━━━━━━━━━━━━━━━━━━━━\u001b[0m \u001b[32m129.1/129.1 kB\u001b[0m \u001b[31m6.5 MB/s\u001b[0m eta \u001b[36m0:00:00\u001b[0m\n",
            "\u001b[?25hDownloading kt_legacy-1.0.5-py3-none-any.whl (9.6 kB)\n",
            "Installing collected packages: kt-legacy, keras-tuner\n",
            "Successfully installed keras-tuner-1.4.7 kt-legacy-1.0.5\n"
          ]
        }
      ]
    },
    {
      "cell_type": "code",
      "source": [
        "from keras.models import Sequential\n",
        "from keras.layers import Conv2D, MaxPooling2D, Flatten, Dense, Dropout\n",
        "from keras.optimizers import Adam\n",
        "import keras_tuner as kt\n",
        "\n",
        "def build_model(hp):\n",
        "    model = Sequential()\n",
        "\n",
        "    # Hyperparameters for convolutional layers\n",
        "    for i in range(hp.Int('conv_layers', 1, 3)):  # Number of convolutional layers\n",
        "        kernel_size_choice = hp.Choice(f'kernel_size_{i}', [3, 5])  # Single int value\n",
        "        model.add(Conv2D(\n",
        "            filters=hp.Choice(f'filters_{i}', [32, 64, 128]),\n",
        "            kernel_size=(kernel_size_choice, kernel_size_choice),  # Convert int to tuple\n",
        "            activation='relu',\n",
        "            input_shape=(51, 59, 1) if i == 0 else None\n",
        "        ))\n",
        "        model.add(MaxPooling2D(pool_size=(2, 2)))\n",
        "\n",
        "    # Dropout for regularization\n",
        "    model.add(Dropout(hp.Float('dropout', 0.2, 0.5, step=0.1)))\n",
        "\n",
        "    # Flatten and Dense Layers\n",
        "    model.add(Flatten())\n",
        "    model.add(Dense(\n",
        "        units=hp.Int('dense_units', 64, 256, step=64),\n",
        "        activation='relu'\n",
        "    ))\n",
        "    model.add(Dropout(hp.Float('dense_dropout', 0.2, 0.5, step=0.1)))\n",
        "\n",
        "    # Output layer\n",
        "    model.add(Dense(5, activation='softmax'))\n",
        "\n",
        "    # Compile the model\n",
        "    model.compile(\n",
        "        optimizer=Adam(hp.Choice('learning_rate', [1e-3, 1e-4])),\n",
        "        loss='categorical_crossentropy',\n",
        "        metrics=['accuracy']\n",
        "    )\n",
        "\n",
        "    return model\n",
        "\n"
      ],
      "metadata": {
        "id": "jf7oVtQb4M3C"
      },
      "execution_count": 30,
      "outputs": []
    },
    {
      "cell_type": "code",
      "source": [
        "from keras_tuner import RandomSearch\n",
        "\n",
        "# Initialize the tuner\n",
        "tuner = RandomSearch(\n",
        "    build_model,\n",
        "    objective='val_accuracy',\n",
        "    max_trials=10,\n",
        "    executions_per_trial=1,\n",
        "    directory='hyperparam_tuning',\n",
        "    project_name='eeg_classification'\n",
        ")\n",
        "\n",
        "# Run the hyperparameter search\n",
        "tuner.search(X_train, y_train, epochs=20, validation_split=0.2, verbose=1)\n",
        "\n",
        "# Get the best hyperparameters\n",
        "best_hps = tuner.get_best_hyperparameters(num_trials=1)[0]\n",
        "print(\"Best Hyperparameters:\")\n",
        "print(\"Conv Layers:\", best_hps.get('conv_layers'))\n",
        "for i in range(best_hps.get('conv_layers')):\n",
        "    print(f\"Filters (Layer {i+1}):\", best_hps.get(f'filters_{i}'))\n",
        "    print(f\"Kernel Size (Layer {i+1}):\", (best_hps.get(f'kernel_size_{i}'), best_hps.get(f'kernel_size_{i}')))\n",
        "print(\"Dropout:\", best_hps.get('dropout'))\n",
        "print(\"Dense Units:\", best_hps.get('dense_units'))\n",
        "print(\"Dense Dropout:\", best_hps.get('dense_dropout'))\n",
        "print(\"Learning Rate:\", best_hps.get('learning_rate'))\n"
      ],
      "metadata": {
        "colab": {
          "base_uri": "https://localhost:8080/"
        },
        "id": "eaFGgXrU8M0g",
        "outputId": "304f021e-72a1-43a4-9e09-d038db67bf50"
      },
      "execution_count": 31,
      "outputs": [
        {
          "output_type": "stream",
          "name": "stdout",
          "text": [
            "Trial 10 Complete [00h 00m 30s]\n",
            "val_accuracy: 0.49056604504585266\n",
            "\n",
            "Best val_accuracy So Far: 0.49056604504585266\n",
            "Total elapsed time: 00h 07m 42s\n",
            "Best Hyperparameters:\n",
            "Conv Layers: 3\n",
            "Filters (Layer 1): 32\n",
            "Kernel Size (Layer 1): (3, 3)\n",
            "Filters (Layer 2): 32\n",
            "Kernel Size (Layer 2): (3, 3)\n",
            "Filters (Layer 3): 32\n",
            "Kernel Size (Layer 3): (3, 3)\n",
            "Dropout: 0.30000000000000004\n",
            "Dense Units: 256\n",
            "Dense Dropout: 0.30000000000000004\n",
            "Learning Rate: 0.001\n"
          ]
        }
      ]
    },
    {
      "cell_type": "code",
      "source": [
        "# Build the best model\n",
        "final_model = tuner.hypermodel.build(best_hps)\n",
        "\n",
        "# Train the model\n",
        "history = final_model.fit(\n",
        "    X_train, y_train,\n",
        "    validation_split=0.2,\n",
        "    epochs=30,\n",
        "    batch_size=32,\n",
        "    verbose=1\n",
        ")\n",
        "\n",
        "# Evaluate on test data\n",
        "test_loss, test_accuracy = final_model.evaluate(X_test, y_test)\n",
        "print(\"Test Loss:\", test_loss)\n",
        "print(\"Test Accuracy:\", test_accuracy)\n"
      ],
      "metadata": {
        "colab": {
          "base_uri": "https://localhost:8080/"
        },
        "id": "hsjFiu-s-x4T",
        "outputId": "739588b5-b913-454a-d3f3-d2154f2d5438"
      },
      "execution_count": 32,
      "outputs": [
        {
          "output_type": "stream",
          "name": "stdout",
          "text": [
            "Epoch 1/30\n",
            "\u001b[1m113/113\u001b[0m \u001b[32m━━━━━━━━━━━━━━━━━━━━\u001b[0m\u001b[37m\u001b[0m \u001b[1m7s\u001b[0m 32ms/step - accuracy: 0.4272 - loss: 1.3589 - val_accuracy: 0.4895 - val_loss: 1.2386\n",
            "Epoch 2/30\n",
            "\u001b[1m113/113\u001b[0m \u001b[32m━━━━━━━━━━━━━━━━━━━━\u001b[0m\u001b[37m\u001b[0m \u001b[1m5s\u001b[0m 4ms/step - accuracy: 0.4932 - loss: 1.2501 - val_accuracy: 0.4895 - val_loss: 1.2350\n",
            "Epoch 3/30\n",
            "\u001b[1m113/113\u001b[0m \u001b[32m━━━━━━━━━━━━━━━━━━━━\u001b[0m\u001b[37m\u001b[0m \u001b[1m0s\u001b[0m 4ms/step - accuracy: 0.4797 - loss: 1.2806 - val_accuracy: 0.4895 - val_loss: 1.2358\n",
            "Epoch 4/30\n",
            "\u001b[1m113/113\u001b[0m \u001b[32m━━━━━━━━━━━━━━━━━━━━\u001b[0m\u001b[37m\u001b[0m \u001b[1m1s\u001b[0m 4ms/step - accuracy: 0.5007 - loss: 1.2462 - val_accuracy: 0.4895 - val_loss: 1.2349\n",
            "Epoch 5/30\n",
            "\u001b[1m113/113\u001b[0m \u001b[32m━━━━━━━━━━━━━━━━━━━━\u001b[0m\u001b[37m\u001b[0m \u001b[1m0s\u001b[0m 4ms/step - accuracy: 0.4853 - loss: 1.2514 - val_accuracy: 0.4895 - val_loss: 1.2367\n",
            "Epoch 6/30\n",
            "\u001b[1m113/113\u001b[0m \u001b[32m━━━━━━━━━━━━━━━━━━━━\u001b[0m\u001b[37m\u001b[0m \u001b[1m1s\u001b[0m 4ms/step - accuracy: 0.4650 - loss: 1.2924 - val_accuracy: 0.4895 - val_loss: 1.2350\n",
            "Epoch 7/30\n",
            "\u001b[1m113/113\u001b[0m \u001b[32m━━━━━━━━━━━━━━━━━━━━\u001b[0m\u001b[37m\u001b[0m \u001b[1m0s\u001b[0m 4ms/step - accuracy: 0.4821 - loss: 1.2734 - val_accuracy: 0.4895 - val_loss: 1.2343\n",
            "Epoch 8/30\n",
            "\u001b[1m113/113\u001b[0m \u001b[32m━━━━━━━━━━━━━━━━━━━━\u001b[0m\u001b[37m\u001b[0m \u001b[1m0s\u001b[0m 4ms/step - accuracy: 0.4931 - loss: 1.2459 - val_accuracy: 0.4895 - val_loss: 1.2409\n",
            "Epoch 9/30\n",
            "\u001b[1m113/113\u001b[0m \u001b[32m━━━━━━━━━━━━━━━━━━━━\u001b[0m\u001b[37m\u001b[0m \u001b[1m1s\u001b[0m 4ms/step - accuracy: 0.5012 - loss: 1.2505 - val_accuracy: 0.4895 - val_loss: 1.2431\n",
            "Epoch 10/30\n",
            "\u001b[1m113/113\u001b[0m \u001b[32m━━━━━━━━━━━━━━━━━━━━\u001b[0m\u001b[37m\u001b[0m \u001b[1m0s\u001b[0m 4ms/step - accuracy: 0.4669 - loss: 1.2654 - val_accuracy: 0.4895 - val_loss: 1.2358\n",
            "Epoch 11/30\n",
            "\u001b[1m113/113\u001b[0m \u001b[32m━━━━━━━━━━━━━━━━━━━━\u001b[0m\u001b[37m\u001b[0m \u001b[1m1s\u001b[0m 4ms/step - accuracy: 0.4706 - loss: 1.2872 - val_accuracy: 0.4895 - val_loss: 1.2362\n",
            "Epoch 12/30\n",
            "\u001b[1m113/113\u001b[0m \u001b[32m━━━━━━━━━━━━━━━━━━━━\u001b[0m\u001b[37m\u001b[0m \u001b[1m0s\u001b[0m 4ms/step - accuracy: 0.4863 - loss: 1.2421 - val_accuracy: 0.4895 - val_loss: 1.2429\n",
            "Epoch 13/30\n",
            "\u001b[1m113/113\u001b[0m \u001b[32m━━━━━━━━━━━━━━━━━━━━\u001b[0m\u001b[37m\u001b[0m \u001b[1m1s\u001b[0m 4ms/step - accuracy: 0.4800 - loss: 1.2582 - val_accuracy: 0.4895 - val_loss: 1.2430\n",
            "Epoch 14/30\n",
            "\u001b[1m113/113\u001b[0m \u001b[32m━━━━━━━━━━━━━━━━━━━━\u001b[0m\u001b[37m\u001b[0m \u001b[1m1s\u001b[0m 5ms/step - accuracy: 0.4705 - loss: 1.2611 - val_accuracy: 0.4872 - val_loss: 1.2450\n",
            "Epoch 15/30\n",
            "\u001b[1m113/113\u001b[0m \u001b[32m━━━━━━━━━━━━━━━━━━━━\u001b[0m\u001b[37m\u001b[0m \u001b[1m1s\u001b[0m 5ms/step - accuracy: 0.4723 - loss: 1.2429 - val_accuracy: 0.4706 - val_loss: 1.2460\n",
            "Epoch 16/30\n",
            "\u001b[1m113/113\u001b[0m \u001b[32m━━━━━━━━━━━━━━━━━━━━\u001b[0m\u001b[37m\u001b[0m \u001b[1m1s\u001b[0m 5ms/step - accuracy: 0.4708 - loss: 1.2484 - val_accuracy: 0.4850 - val_loss: 1.2553\n",
            "Epoch 17/30\n",
            "\u001b[1m113/113\u001b[0m \u001b[32m━━━━━━━━━━━━━━━━━━━━\u001b[0m\u001b[37m\u001b[0m \u001b[1m1s\u001b[0m 5ms/step - accuracy: 0.4890 - loss: 1.2168 - val_accuracy: 0.4795 - val_loss: 1.2487\n",
            "Epoch 18/30\n",
            "\u001b[1m113/113\u001b[0m \u001b[32m━━━━━━━━━━━━━━━━━━━━\u001b[0m\u001b[37m\u001b[0m \u001b[1m1s\u001b[0m 5ms/step - accuracy: 0.4902 - loss: 1.2136 - val_accuracy: 0.4761 - val_loss: 1.2518\n",
            "Epoch 19/30\n",
            "\u001b[1m113/113\u001b[0m \u001b[32m━━━━━━━━━━━━━━━━━━━━\u001b[0m\u001b[37m\u001b[0m \u001b[1m1s\u001b[0m 5ms/step - accuracy: 0.4953 - loss: 1.2153 - val_accuracy: 0.4895 - val_loss: 1.2508\n",
            "Epoch 20/30\n",
            "\u001b[1m113/113\u001b[0m \u001b[32m━━━━━━━━━━━━━━━━━━━━\u001b[0m\u001b[37m\u001b[0m \u001b[1m0s\u001b[0m 4ms/step - accuracy: 0.4874 - loss: 1.2236 - val_accuracy: 0.4473 - val_loss: 1.2691\n",
            "Epoch 21/30\n",
            "\u001b[1m113/113\u001b[0m \u001b[32m━━━━━━━━━━━━━━━━━━━━\u001b[0m\u001b[37m\u001b[0m \u001b[1m1s\u001b[0m 4ms/step - accuracy: 0.4858 - loss: 1.2014 - val_accuracy: 0.4917 - val_loss: 1.2609\n",
            "Epoch 22/30\n",
            "\u001b[1m113/113\u001b[0m \u001b[32m━━━━━━━━━━━━━━━━━━━━\u001b[0m\u001b[37m\u001b[0m \u001b[1m0s\u001b[0m 4ms/step - accuracy: 0.4942 - loss: 1.1893 - val_accuracy: 0.4806 - val_loss: 1.2787\n",
            "Epoch 23/30\n",
            "\u001b[1m113/113\u001b[0m \u001b[32m━━━━━━━━━━━━━━━━━━━━\u001b[0m\u001b[37m\u001b[0m \u001b[1m1s\u001b[0m 4ms/step - accuracy: 0.4770 - loss: 1.2173 - val_accuracy: 0.4695 - val_loss: 1.2715\n",
            "Epoch 24/30\n",
            "\u001b[1m113/113\u001b[0m \u001b[32m━━━━━━━━━━━━━━━━━━━━\u001b[0m\u001b[37m\u001b[0m \u001b[1m1s\u001b[0m 4ms/step - accuracy: 0.5129 - loss: 1.1620 - val_accuracy: 0.4784 - val_loss: 1.2911\n",
            "Epoch 25/30\n",
            "\u001b[1m113/113\u001b[0m \u001b[32m━━━━━━━━━━━━━━━━━━━━\u001b[0m\u001b[37m\u001b[0m \u001b[1m0s\u001b[0m 4ms/step - accuracy: 0.5170 - loss: 1.1691 - val_accuracy: 0.4417 - val_loss: 1.2830\n",
            "Epoch 26/30\n",
            "\u001b[1m113/113\u001b[0m \u001b[32m━━━━━━━━━━━━━━━━━━━━\u001b[0m\u001b[37m\u001b[0m \u001b[1m0s\u001b[0m 4ms/step - accuracy: 0.4995 - loss: 1.1601 - val_accuracy: 0.4650 - val_loss: 1.3231\n",
            "Epoch 27/30\n",
            "\u001b[1m113/113\u001b[0m \u001b[32m━━━━━━━━━━━━━━━━━━━━\u001b[0m\u001b[37m\u001b[0m \u001b[1m1s\u001b[0m 4ms/step - accuracy: 0.5228 - loss: 1.1314 - val_accuracy: 0.4573 - val_loss: 1.3084\n",
            "Epoch 28/30\n",
            "\u001b[1m113/113\u001b[0m \u001b[32m━━━━━━━━━━━━━━━━━━━━\u001b[0m\u001b[37m\u001b[0m \u001b[1m1s\u001b[0m 4ms/step - accuracy: 0.5135 - loss: 1.1310 - val_accuracy: 0.4462 - val_loss: 1.3320\n",
            "Epoch 29/30\n",
            "\u001b[1m113/113\u001b[0m \u001b[32m━━━━━━━━━━━━━━━━━━━━\u001b[0m\u001b[37m\u001b[0m \u001b[1m0s\u001b[0m 4ms/step - accuracy: 0.5528 - loss: 1.0809 - val_accuracy: 0.4451 - val_loss: 1.3490\n",
            "Epoch 30/30\n",
            "\u001b[1m113/113\u001b[0m \u001b[32m━━━━━━━━━━━━━━━━━━━━\u001b[0m\u001b[37m\u001b[0m \u001b[1m0s\u001b[0m 4ms/step - accuracy: 0.5485 - loss: 1.0779 - val_accuracy: 0.4517 - val_loss: 1.3410\n",
            "\u001b[1m36/36\u001b[0m \u001b[32m━━━━━━━━━━━━━━━━━━━━\u001b[0m\u001b[37m\u001b[0m \u001b[1m0s\u001b[0m 12ms/step - accuracy: 0.4492 - loss: 1.3824\n",
            "Test Loss: 1.35019850730896\n",
            "Test Accuracy: 0.44760212302207947\n"
          ]
        }
      ]
    },
    {
      "cell_type": "code",
      "source": [
        "import matplotlib.pyplot as plt\n",
        "\n",
        "# Plot training & validation accuracy values\n",
        "plt.plot(history.history['accuracy'])\n",
        "plt.plot(history.history['val_accuracy'])\n",
        "plt.title('Model accuracy')\n",
        "plt.xlabel('Epoch')\n",
        "plt.ylabel('Accuracy')\n",
        "plt.legend(['Train', 'Val'], loc='upper left')\n",
        "plt.show()\n",
        "\n",
        "# Plot training & validation loss values\n",
        "plt.plot(history.history['loss'])\n",
        "plt.plot(history.history['val_loss'])\n",
        "plt.title('Model loss')\n",
        "plt.xlabel('Epoch')\n",
        "plt.ylabel('Loss')\n",
        "plt.legend(['Train', 'Val'], loc='upper left')\n",
        "plt.show()\n"
      ],
      "metadata": {
        "colab": {
          "base_uri": "https://localhost:8080/",
          "height": 927
        },
        "id": "Ywt6C6GH-x1S",
        "outputId": "1a80766c-4d67-4954-b30a-39767a838127"
      },
      "execution_count": 33,
      "outputs": [
        {
          "output_type": "display_data",
          "data": {
            "text/plain": [
              "<Figure size 640x480 with 1 Axes>"
            ],
            "image/png": "[encoded data removed]"
          },
          "metadata": {}
        },
        {
          "output_type": "display_data",
          "data": {
            "text/plain": [
              "<Figure size 640x480 with 1 Axes>"
            ],
            "image/png": "[encoded data removed]"
          },
          "metadata": {}
        }
      ]
    },
    {
      "cell_type": "code",
      "source": [],
      "metadata": {
        "id": "_GzJ3kIbBPu4"
      },
      "execution_count": null,
      "outputs": []
    },
    {
      "cell_type": "markdown",
      "source": [
        "#SECOND MODEL"
      ],
      "metadata": {
        "id": "wfebeoAECmPD"
      }
    },
    {
      "cell_type": "code",
      "source": [
        "with open('data_splits.pkl', 'rb') as f:\n",
        "    X_train, X_test, y_train, y_test = pickle.load(f)\n",
        "\n",
        "print(\"Data splits loaded successfully!\")\n"
      ],
      "metadata": {
        "colab": {
          "base_uri": "https://localhost:8080/"
        },
        "id": "TjyDbDHWCnwt",
        "outputId": "a2732dd7-c805-4ab3-d08b-012a429efebc"
      },
      "execution_count": 36,
      "outputs": [
        {
          "output_type": "stream",
          "name": "stdout",
          "text": [
            "Data splits loaded successfully!\n"
          ]
        }
      ]
    },
    {
      "cell_type": "code",
      "source": [
        "from tensorflow.keras.models import Sequential\n",
        "from tensorflow.keras.layers import Conv2D, MaxPooling2D, Flatten, Dense, Dropout, BatchNormalization\n",
        "\n",
        "model = Sequential()\n",
        "\n",
        "# Add more convolutional layers with more filters\n",
        "model.add(Conv2D(32, (3, 3), activation='relu', input_shape=(X_train.shape[1], X_train.shape[2], X_train.shape[3])))\n",
        "model.add(BatchNormalization())\n",
        "model.add(Conv2D(64, (3, 3), activation='relu'))\n",
        "model.add(BatchNormalization())\n",
        "model.add(Conv2D(128, (3, 3), activation='relu'))\n",
        "model.add(BatchNormalization())\n",
        "\n",
        "# Add max-pooling layers\n",
        "model.add(MaxPooling2D(pool_size=(2, 2)))\n",
        "\n",
        "# Flatten and add Dense layers\n",
        "model.add(Flatten())\n",
        "model.add(Dense(256, activation='relu'))\n",
        "model.add(Dropout(0.5))  # Increase dropout to prevent overfitting\n",
        "model.add(Dense(128, activation='relu'))\n",
        "model.add(Dropout(0.5))\n",
        "\n",
        "# Output layer (adjust the number of units based on your problem)\n",
        "model.add(Dense(y_train.shape[1], activation='softmax'))\n",
        "\n",
        "# Compile the model\n",
        "model.compile(optimizer='adam', loss='categorical_crossentropy', metrics=['accuracy'])\n"
      ],
      "metadata": {
        "colab": {
          "base_uri": "https://localhost:8080/"
        },
        "id": "pEj29N5OCoQK",
        "outputId": "71117d62-830b-44ec-d7f0-41f9a0a9760a"
      },
      "execution_count": 37,
      "outputs": [
        {
          "output_type": "stream",
          "name": "stderr",
          "text": [
            "/usr/local/lib/python3.10/dist-packages/keras/src/layers/convolutional/base_conv.py:107: UserWarning: Do not pass an `input_shape`/`input_dim` argument to a layer. When using Sequential models, prefer using an `Input(shape)` object as the first layer in the model instead.\n",
            "  super().__init__(activity_regularizer=activity_regularizer, **kwargs)\n"
          ]
        }
      ]
    },
    {
      "cell_type": "code",
      "source": [
        "from tensorflow.keras.callbacks import ReduceLROnPlateau\n",
        "\n",
        "# Callback to reduce learning rate when the validation loss plateaus\n",
        "lr_scheduler = ReduceLROnPlateau(monitor='val_loss', factor=0.5, patience=3, verbose=1)\n",
        "\n",
        "# Train the model with the learning rate scheduler\n",
        "history = model.fit(X_train, y_train,\n",
        "                    validation_split=0.2,\n",
        "                    epochs=30,\n",
        "                    batch_size=32,\n",
        "                    verbose=1,\n",
        "                    callbacks=[lr_scheduler])\n"
      ],
      "metadata": {
        "colab": {
          "base_uri": "https://localhost:8080/"
        },
        "id": "Wg2hK1_fCoJ3",
        "outputId": "29c145bc-b0c7-4805-b1b9-8b5c1ce7fd4a"
      },
      "execution_count": 38,
      "outputs": [
        {
          "output_type": "stream",
          "name": "stdout",
          "text": [
            "Epoch 1/30\n",
            "\u001b[1m113/113\u001b[0m \u001b[32m━━━━━━━━━━━━━━━━━━━━\u001b[0m\u001b[37m\u001b[0m \u001b[1m19s\u001b[0m 103ms/step - accuracy: 0.3347 - loss: 13.9886 - val_accuracy: 0.4895 - val_loss: 25.5974 - learning_rate: 0.0010\n",
            "Epoch 2/30\n",
            "\u001b[1m113/113\u001b[0m \u001b[32m━━━━━━━━━━━━━━━━━━━━\u001b[0m\u001b[37m\u001b[0m \u001b[1m7s\u001b[0m 23ms/step - accuracy: 0.4677 - loss: 1.4202 - val_accuracy: 0.4895 - val_loss: 33.1218 - learning_rate: 0.0010\n",
            "Epoch 3/30\n",
            "\u001b[1m113/113\u001b[0m \u001b[32m━━━━━━━━━━━━━━━━━━━━\u001b[0m\u001b[37m\u001b[0m \u001b[1m5s\u001b[0m 26ms/step - accuracy: 0.4764 - loss: 1.3227 - val_accuracy: 0.4895 - val_loss: 26.8799 - learning_rate: 0.0010\n",
            "Epoch 4/30\n",
            "\u001b[1m113/113\u001b[0m \u001b[32m━━━━━━━━━━━━━━━━━━━━\u001b[0m\u001b[37m\u001b[0m \u001b[1m3s\u001b[0m 22ms/step - accuracy: 0.4691 - loss: 1.2864 - val_accuracy: 0.4717 - val_loss: 15.1731 - learning_rate: 0.0010\n",
            "Epoch 5/30\n",
            "\u001b[1m113/113\u001b[0m \u001b[32m━━━━━━━━━━━━━━━━━━━━\u001b[0m\u001b[37m\u001b[0m \u001b[1m2s\u001b[0m 21ms/step - accuracy: 0.4774 - loss: 1.2819 - val_accuracy: 0.3230 - val_loss: 6.5737 - learning_rate: 0.0010\n",
            "Epoch 6/30\n",
            "\u001b[1m113/113\u001b[0m \u001b[32m━━━━━━━━━━━━━━━━━━━━\u001b[0m\u001b[37m\u001b[0m \u001b[1m2s\u001b[0m 21ms/step - accuracy: 0.4855 - loss: 1.2759 - val_accuracy: 0.4750 - val_loss: 1.3305 - learning_rate: 0.0010\n",
            "Epoch 7/30\n",
            "\u001b[1m113/113\u001b[0m \u001b[32m━━━━━━━━━━━━━━━━━━━━\u001b[0m\u001b[37m\u001b[0m \u001b[1m2s\u001b[0m 22ms/step - accuracy: 0.4762 - loss: 1.2698 - val_accuracy: 0.4895 - val_loss: 1.2337 - learning_rate: 0.0010\n",
            "Epoch 8/30\n",
            "\u001b[1m113/113\u001b[0m \u001b[32m━━━━━━━━━━━━━━━━━━━━\u001b[0m\u001b[37m\u001b[0m \u001b[1m2s\u001b[0m 21ms/step - accuracy: 0.4938 - loss: 1.2448 - val_accuracy: 0.4895 - val_loss: 1.2337 - learning_rate: 0.0010\n",
            "Epoch 9/30\n",
            "\u001b[1m113/113\u001b[0m \u001b[32m━━━━━━━━━━━━━━━━━━━━\u001b[0m\u001b[37m\u001b[0m \u001b[1m2s\u001b[0m 21ms/step - accuracy: 0.4812 - loss: 1.2667 - val_accuracy: 0.4895 - val_loss: 1.2335 - learning_rate: 0.0010\n",
            "Epoch 10/30\n",
            "\u001b[1m113/113\u001b[0m \u001b[32m━━━━━━━━━━━━━━━━━━━━\u001b[0m\u001b[37m\u001b[0m \u001b[1m3s\u001b[0m 24ms/step - accuracy: 0.4743 - loss: 1.2724 - val_accuracy: 0.4895 - val_loss: 1.2338 - learning_rate: 0.0010\n",
            "Epoch 11/30\n",
            "\u001b[1m113/113\u001b[0m \u001b[32m━━━━━━━━━━━━━━━━━━━━\u001b[0m\u001b[37m\u001b[0m \u001b[1m2s\u001b[0m 21ms/step - accuracy: 0.4706 - loss: 1.2783 - val_accuracy: 0.4895 - val_loss: 1.2357 - learning_rate: 0.0010\n",
            "Epoch 12/30\n",
            "\u001b[1m112/113\u001b[0m \u001b[32m━━━━━━━━━━━━━━━━━━━\u001b[0m\u001b[37m━\u001b[0m \u001b[1m0s\u001b[0m 19ms/step - accuracy: 0.4931 - loss: 1.2682\n",
            "Epoch 12: ReduceLROnPlateau reducing learning rate to 0.0005000000237487257.\n",
            "\u001b[1m113/113\u001b[0m \u001b[32m━━━━━━━━━━━━━━━━━━━━\u001b[0m\u001b[37m\u001b[0m \u001b[1m2s\u001b[0m 21ms/step - accuracy: 0.4929 - loss: 1.2683 - val_accuracy: 0.4895 - val_loss: 1.2343 - learning_rate: 0.0010\n",
            "Epoch 13/30\n",
            "\u001b[1m113/113\u001b[0m \u001b[32m━━━━━━━━━━━━━━━━━━━━\u001b[0m\u001b[37m\u001b[0m \u001b[1m3s\u001b[0m 23ms/step - accuracy: 0.4865 - loss: 1.2484 - val_accuracy: 0.4895 - val_loss: 1.2343 - learning_rate: 5.0000e-04\n",
            "Epoch 14/30\n",
            "\u001b[1m113/113\u001b[0m \u001b[32m━━━━━━━━━━━━━━━━━━━━\u001b[0m\u001b[37m\u001b[0m \u001b[1m5s\u001b[0m 22ms/step - accuracy: 0.4784 - loss: 1.2745 - val_accuracy: 0.4895 - val_loss: 1.2346 - learning_rate: 5.0000e-04\n",
            "Epoch 15/30\n",
            "\u001b[1m112/113\u001b[0m \u001b[32m━━━━━━━━━━━━━━━━━━━\u001b[0m\u001b[37m━\u001b[0m \u001b[1m0s\u001b[0m 19ms/step - accuracy: 0.4723 - loss: 1.2857\n",
            "Epoch 15: ReduceLROnPlateau reducing learning rate to 0.0002500000118743628.\n",
            "\u001b[1m113/113\u001b[0m \u001b[32m━━━━━━━━━━━━━━━━━━━━\u001b[0m\u001b[37m\u001b[0m \u001b[1m2s\u001b[0m 20ms/step - accuracy: 0.4725 - loss: 1.2855 - val_accuracy: 0.4895 - val_loss: 1.2345 - learning_rate: 5.0000e-04\n",
            "Epoch 16/30\n",
            "\u001b[1m113/113\u001b[0m \u001b[32m━━━━━━━━━━━━━━━━━━━━\u001b[0m\u001b[37m\u001b[0m \u001b[1m3s\u001b[0m 22ms/step - accuracy: 0.4921 - loss: 1.2537 - val_accuracy: 0.4895 - val_loss: 1.2345 - learning_rate: 2.5000e-04\n",
            "Epoch 17/30\n",
            "\u001b[1m113/113\u001b[0m \u001b[32m━━━━━━━━━━━━━━━━━━━━\u001b[0m\u001b[37m\u001b[0m \u001b[1m3s\u001b[0m 23ms/step - accuracy: 0.4765 - loss: 1.2711 - val_accuracy: 0.4895 - val_loss: 1.2346 - learning_rate: 2.5000e-04\n",
            "Epoch 18/30\n",
            "\u001b[1m113/113\u001b[0m \u001b[32m━━━━━━━━━━━━━━━━━━━━\u001b[0m\u001b[37m\u001b[0m \u001b[1m0s\u001b[0m 20ms/step - accuracy: 0.4705 - loss: 1.2768\n",
            "Epoch 18: ReduceLROnPlateau reducing learning rate to 0.0001250000059371814.\n",
            "\u001b[1m113/113\u001b[0m \u001b[32m━━━━━━━━━━━━━━━━━━━━\u001b[0m\u001b[37m\u001b[0m \u001b[1m5s\u001b[0m 22ms/step - accuracy: 0.4706 - loss: 1.2767 - val_accuracy: 0.4895 - val_loss: 1.2345 - learning_rate: 2.5000e-04\n",
            "Epoch 19/30\n",
            "\u001b[1m113/113\u001b[0m \u001b[32m━━━━━━━━━━━━━━━━━━━━\u001b[0m\u001b[37m\u001b[0m \u001b[1m2s\u001b[0m 20ms/step - accuracy: 0.4761 - loss: 1.2827 - val_accuracy: 0.4895 - val_loss: 1.2345 - learning_rate: 1.2500e-04\n",
            "Epoch 20/30\n",
            "\u001b[1m113/113\u001b[0m \u001b[32m━━━━━━━━━━━━━━━━━━━━\u001b[0m\u001b[37m\u001b[0m \u001b[1m3s\u001b[0m 20ms/step - accuracy: 0.4740 - loss: 1.2759 - val_accuracy: 0.4895 - val_loss: 1.2345 - learning_rate: 1.2500e-04\n",
            "Epoch 21/30\n",
            "\u001b[1m112/113\u001b[0m \u001b[32m━━━━━━━━━━━━━━━━━━━\u001b[0m\u001b[37m━\u001b[0m \u001b[1m0s\u001b[0m 20ms/step - accuracy: 0.4803 - loss: 1.2801\n",
            "Epoch 21: ReduceLROnPlateau reducing learning rate to 6.25000029685907e-05.\n",
            "\u001b[1m113/113\u001b[0m \u001b[32m━━━━━━━━━━━━━━━━━━━━\u001b[0m\u001b[37m\u001b[0m \u001b[1m3s\u001b[0m 23ms/step - accuracy: 0.4803 - loss: 1.2799 - val_accuracy: 0.4883 - val_loss: 1.2345 - learning_rate: 1.2500e-04\n",
            "Epoch 22/30\n",
            "\u001b[1m113/113\u001b[0m \u001b[32m━━━━━━━━━━━━━━━━━━━━\u001b[0m\u001b[37m\u001b[0m \u001b[1m2s\u001b[0m 22ms/step - accuracy: 0.4796 - loss: 1.2624 - val_accuracy: 0.4895 - val_loss: 1.2339 - learning_rate: 6.2500e-05\n",
            "Epoch 23/30\n",
            "\u001b[1m113/113\u001b[0m \u001b[32m━━━━━━━━━━━━━━━━━━━━\u001b[0m\u001b[37m\u001b[0m \u001b[1m2s\u001b[0m 20ms/step - accuracy: 0.4802 - loss: 1.2678 - val_accuracy: 0.4895 - val_loss: 1.2338 - learning_rate: 6.2500e-05\n",
            "Epoch 24/30\n",
            "\u001b[1m111/113\u001b[0m \u001b[32m━━━━━━━━━━━━━━━━━━━\u001b[0m\u001b[37m━\u001b[0m \u001b[1m0s\u001b[0m 21ms/step - accuracy: 0.4860 - loss: 1.2600\n",
            "Epoch 24: ReduceLROnPlateau reducing learning rate to 3.125000148429535e-05.\n",
            "\u001b[1m113/113\u001b[0m \u001b[32m━━━━━━━━━━━━━━━━━━━━\u001b[0m\u001b[37m\u001b[0m \u001b[1m3s\u001b[0m 22ms/step - accuracy: 0.4858 - loss: 1.2602 - val_accuracy: 0.4895 - val_loss: 1.2338 - learning_rate: 6.2500e-05\n",
            "Epoch 25/30\n",
            "\u001b[1m113/113\u001b[0m \u001b[32m━━━━━━━━━━━━━━━━━━━━\u001b[0m\u001b[37m\u001b[0m \u001b[1m3s\u001b[0m 24ms/step - accuracy: 0.4749 - loss: 1.2607 - val_accuracy: 0.4895 - val_loss: 1.2338 - learning_rate: 3.1250e-05\n",
            "Epoch 26/30\n",
            "\u001b[1m113/113\u001b[0m \u001b[32m━━━━━━━━━━━━━━━━━━━━\u001b[0m\u001b[37m\u001b[0m \u001b[1m5s\u001b[0m 24ms/step - accuracy: 0.4803 - loss: 1.2567 - val_accuracy: 0.4895 - val_loss: 1.2338 - learning_rate: 3.1250e-05\n",
            "Epoch 27/30\n",
            "\u001b[1m112/113\u001b[0m \u001b[32m━━━━━━━━━━━━━━━━━━━\u001b[0m\u001b[37m━\u001b[0m \u001b[1m0s\u001b[0m 19ms/step - accuracy: 0.4802 - loss: 1.2541\n",
            "Epoch 27: ReduceLROnPlateau reducing learning rate to 1.5625000742147677e-05.\n",
            "\u001b[1m113/113\u001b[0m \u001b[32m━━━━━━━━━━━━━━━━━━━━\u001b[0m\u001b[37m\u001b[0m \u001b[1m2s\u001b[0m 21ms/step - accuracy: 0.4802 - loss: 1.2543 - val_accuracy: 0.4895 - val_loss: 1.2338 - learning_rate: 3.1250e-05\n",
            "Epoch 28/30\n",
            "\u001b[1m113/113\u001b[0m \u001b[32m━━━━━━━━━━━━━━━━━━━━\u001b[0m\u001b[37m\u001b[0m \u001b[1m3s\u001b[0m 22ms/step - accuracy: 0.4907 - loss: 1.2646 - val_accuracy: 0.4895 - val_loss: 1.2337 - learning_rate: 1.5625e-05\n",
            "Epoch 29/30\n",
            "\u001b[1m113/113\u001b[0m \u001b[32m━━━━━━━━━━━━━━━━━━━━\u001b[0m\u001b[37m\u001b[0m \u001b[1m2s\u001b[0m 21ms/step - accuracy: 0.4803 - loss: 1.2747 - val_accuracy: 0.4895 - val_loss: 1.2337 - learning_rate: 1.5625e-05\n",
            "Epoch 30/30\n",
            "\u001b[1m112/113\u001b[0m \u001b[32m━━━━━━━━━━━━━━━━━━━\u001b[0m\u001b[37m━\u001b[0m \u001b[1m0s\u001b[0m 19ms/step - accuracy: 0.4814 - loss: 1.2641\n",
            "Epoch 30: ReduceLROnPlateau reducing learning rate to 7.812500371073838e-06.\n",
            "\u001b[1m113/113\u001b[0m \u001b[32m━━━━━━━━━━━━━━━━━━━━\u001b[0m\u001b[37m\u001b[0m \u001b[1m3s\u001b[0m 21ms/step - accuracy: 0.4813 - loss: 1.2642 - val_accuracy: 0.4895 - val_loss: 1.2337 - learning_rate: 1.5625e-05\n"
          ]
        }
      ]
    },
    {
      "cell_type": "code",
      "source": [
        "from tensorflow.keras.regularizers import l2\n",
        "\n",
        "# Add L2 regularization to layers\n",
        "model = Sequential()\n",
        "\n",
        "model.add(Conv2D(32, (3, 3), activation='relu', input_shape=(X_train.shape[1], X_train.shape[2], X_train.shape[3]), kernel_regularizer=l2(0.01)))\n",
        "model.add(BatchNormalization())\n",
        "model.add(Conv2D(64, (3, 3), activation='relu', kernel_regularizer=l2(0.01)))\n",
        "model.add(BatchNormalization())\n",
        "model.add(Conv2D(128, (3, 3), activation='relu', kernel_regularizer=l2(0.01)))\n",
        "model.add(BatchNormalization())\n",
        "\n",
        "# Max pooling, flatten, and dense layers\n",
        "model.add(MaxPooling2D(pool_size=(2, 2)))\n",
        "model.add(Flatten())\n",
        "model.add(Dense(256, activation='relu', kernel_regularizer=l2(0.01)))\n",
        "model.add(Dropout(0.5))\n",
        "model.add(Dense(128, activation='relu', kernel_regularizer=l2(0.01)))\n",
        "model.add(Dropout(0.5))\n",
        "\n",
        "# Output layer\n",
        "model.add(Dense(y_train.shape[1], activation='softmax'))\n",
        "\n",
        "# Compile the model\n",
        "model.compile(optimizer='adam', loss='categorical_crossentropy', metrics=['accuracy'])\n"
      ],
      "metadata": {
        "id": "oXC_Gs97CoFj"
      },
      "execution_count": 39,
      "outputs": []
    },
    {
      "cell_type": "code",
      "source": [
        "from tensorflow.keras.layers import BatchNormalization\n",
        "\n",
        "# Add Batch Normalization after each convolutional layer (already shown above)\n",
        "model.add(BatchNormalization())\n"
      ],
      "metadata": {
        "id": "gLslNe8xCx1G"
      },
      "execution_count": 40,
      "outputs": []
    },
    {
      "cell_type": "code",
      "source": [
        "from keras_tuner import Hyperband\n",
        "\n",
        "def build_model(hp):\n",
        "    model = Sequential()\n",
        "    model.add(Conv2D(filters=hp.Int('filters', min_value=32, max_value=128, step=32),\n",
        "                     kernel_size=(3, 3), activation='relu', input_shape=(X_train.shape[1], X_train.shape[2], X_train.shape[3])))\n",
        "    model.add(BatchNormalization())\n",
        "    model.add(Conv2D(filters=hp.Int('filters', min_value=32, max_value=128, step=32), kernel_size=(3, 3), activation='relu'))\n",
        "    model.add(BatchNormalization())\n",
        "    model.add(MaxPooling2D(pool_size=(2, 2)))\n",
        "    model.add(Flatten())\n",
        "    model.add(Dense(256, activation='relu'))\n",
        "    model.add(Dropout(0.5))\n",
        "    model.add(Dense(128, activation='relu'))\n",
        "    model.add(Dropout(0.5))\n",
        "    model.add(Dense(y_train.shape[1], activation='softmax'))\n",
        "\n",
        "    model.compile(optimizer=hp.Choice('optimizer', values=['adam', 'nadam']),\n",
        "                  loss='categorical_crossentropy', metrics=['accuracy'])\n",
        "    return model\n",
        "\n",
        "# Run Hyperband for hyperparameter optimization\n",
        "tuner = Hyperband(\n",
        "    build_model,\n",
        "    objective='val_accuracy',\n",
        "    max_epochs=50,\n",
        "    factor=3,\n",
        "    hyperband_iterations=1,\n",
        "    directory='hyperband_dir',\n",
        "    project_name='eeg_model'\n",
        ")\n",
        "\n",
        "tuner.search(X_train, y_train, epochs=30, validation_data=(X_test, y_test))\n"
      ],
      "metadata": {
        "colab": {
          "base_uri": "https://localhost:8080/"
        },
        "id": "HTUJCUU8Cxu6",
        "outputId": "9d074217-4ab3-4130-c92b-5b08e2870d40"
      },
      "execution_count": 41,
      "outputs": [
        {
          "output_type": "stream",
          "name": "stdout",
          "text": [
            "Trial 8 Complete [00h 00m 29s]\n",
            "val_accuracy: 0.47335702180862427\n",
            "\n",
            "Best val_accuracy So Far: 0.4849023222923279\n",
            "Total elapsed time: 00h 02m 49s\n"
          ]
        }
      ]
    },
    {
      "cell_type": "code",
      "source": [],
      "metadata": {
        "id": "lhNTm8PGDKV3"
      },
      "execution_count": null,
      "outputs": []
    },
    {
      "cell_type": "code",
      "source": [],
      "metadata": {
        "id": "1shoRRoaEdZT"
      },
      "execution_count": null,
      "outputs": []
    },
    {
      "cell_type": "code",
      "source": [],
      "metadata": {
        "id": "Rh4odUMrEdUd"
      },
      "execution_count": null,
      "outputs": []
    }
  ]
}